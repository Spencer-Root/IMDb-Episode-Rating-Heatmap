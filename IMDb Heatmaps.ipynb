{
 "cells": [
  {
   "cell_type": "code",
   "execution_count": 4,
   "metadata": {},
   "outputs": [],
   "source": [
    "from imdb import IMDb\n",
    "import pprint as pp\n",
    "import numpy as np\n",
    "import pandas as pd\n",
    "import pprint as pp\n",
    "import matplotlib.pyplot as plt\n",
    "import seaborn as sns; sns.set()\n",
    "%matplotlib inline"
   ]
  },
  {
   "cell_type": "code",
   "execution_count": 5,
   "metadata": {},
   "outputs": [],
   "source": [
    "# This script takes the unique IMDb identifier for any show's first episode (found in the url), \n",
    "# and creates a heatmap of episode and season ratings. For example, the url for the first episode of the show Friends is \n",
    "# https://www.imdb.com/title/tt0583459/?ref_=ttep_ep1\n",
    "# The unique id is the numeric 0583459. Some example first episode IDs are found below.\n",
    "\n",
    "# IASIP\n",
    "# episode_number = \"0612823\"\n",
    "\n",
    "# Friends \n",
    "# episode_number = \"0583459\"\n",
    "\n",
    "# Simpsons\n",
    "# episode_number = '0348034'\n",
    "\n",
    "# Community\n",
    "# episode_number = '1467481'\n",
    "\n",
    "# Breaking Bad\n",
    "# episode_number = '0959621'\n",
    "\n",
    "# The Boys\n",
    "episode_number = '7775902'\n",
    "\n",
    "# https://imdbpy.readthedocs.io/en/latest/usage/quickstart.html\n",
    "i = IMDb()\n",
    "\n",
    "# create a list to store all episode data\n",
    "data = []\n",
    "\n",
    "# The below while loop gets the episode data for the first episode using the unique ID. Extract the Season, Episode, Rating data. \n",
    "# Append the Season, Episode, Rating data to our list. Break the while loop once we've retrieved all episodes.\n",
    "\n",
    "# In my next update to this this script, I will rewrite the loop to take any episode ID, instead of just the first. \n",
    "# I will then use the IMDb library to get a count of the episodes and the relative position of the provided episode ID, and\n",
    "# traverse the episodes efficiently, depending on the relative position of the provided episode ID. This will eliminate the\n",
    "# need for a Break statement and will replace with while loop with a more sophisticated for loop.\n",
    "\n",
    "while episode_number:\n",
    "    try:\n",
    "        raw_episode = i.get_movie_main(episode_number)\n",
    "        raw_episode_data = raw_episode[\"data\"]\n",
    "        formatted_episode_data = {'Season' : raw_episode_data['season'], \n",
    "                                  'Episode' : raw_episode_data['episode'], \n",
    "                                  'Rating' : raw_episode_data['rating']}\n",
    "        data.append(formatted_episode_data)\n",
    "        episode_number = raw_episode_data[\"next episode\"]\n",
    "    except KeyError:\n",
    "        break"
   ]
  },
  {
   "cell_type": "code",
   "execution_count": 4,
   "metadata": {},
   "outputs": [],
   "source": [
    "# create a Pandas dataframe from our episode data list.\n",
    "df = pd.DataFrame(data)"
   ]
  },
  {
   "cell_type": "code",
   "execution_count": 5,
   "metadata": {},
   "outputs": [],
   "source": [
    "# We want to display each season's average episode rating. Let's create a subsequent dataframe for only the relevant info.\n",
    "\n",
    "df_season_rating = df[['Season', 'Rating']].copy()\n",
    "\n",
    "# calculate the mean \n",
    "df_season_rating = df_season_rating.groupby('Season').mean()\n",
    "\n",
    "# Rename the column to match the calculation\n",
    "df_season_rating = df_season_rating.rename(columns={'Rating': 'Average'})\n",
    "df_season_rating = df_season_rating.reset_index()\n",
    "\n",
    "# Round to 1 decimal place\n",
    "df_season_rating = df_season_rating.round(1)\n",
    "df_season_rating = df_season_rating.set_index(\"Season\")"
   ]
  },
  {
   "cell_type": "code",
   "execution_count": 6,
   "metadata": {},
   "outputs": [],
   "source": [
    "# Combine our calculated mean data with the IMDb scraped data.\n",
    "rating_pivot = df.pivot(\"Season\", \"Episode\", \"Rating\")\n",
    "df_pivot = pd.DataFrame(rating_pivot)\n",
    "df_pivot['Average'] = df_season_rating"
   ]
  },
  {
   "cell_type": "code",
   "execution_count": 7,
   "metadata": {
    "scrolled": false
   },
   "outputs": [
    {
     "data": {
      "image/png": "[encoded data removed]",
      "text/plain": [
       "<Figure size 1080x1080 with 1 Axes>"
      ]
     },
     "metadata": {
      "needs_background": "light"
     },
     "output_type": "display_data"
    }
   ],
   "source": [
    "# Creates a heatmap of all episode's ratings and the mean episode rating per season. \n",
    "\n",
    "fig, ax = plt.subplots(figsize=(15,15))\n",
    "ax.set_ylabel(ylabel=None, fontsize = 20)\n",
    "ax.set_xlabel(xlabel=None, fontsize = 20)\n",
    "\n",
    "plt.title(str(raw_episode_data['episode of']['title']), size = 30)\n",
    "\n",
    "heatmap_episode_rating = sns.heatmap(df_pivot, annot=True, fmt=\".1f\", linewidths=.5, square = True, cmap = \"YlGnBu\", \n",
    "                                     robust = True, cbar=False,ax=ax, yticklabels=True)"
   ]
  }
 ],
 "metadata": {
  "kernelspec": {
   "display_name": "Python 3",
   "language": "python",
   "name": "python3"
  },
  "language_info": {
   "codemirror_mode": {
    "name": "ipython",
    "version": 3
   },
   "file_extension": ".py",
   "mimetype": "text/x-python",
   "name": "python",
   "nbconvert_exporter": "python",
   "pygments_lexer": "ipython3",
   "version": "3.7.3"
  }
 },
 "nbformat": 4,
 "nbformat_minor": 2
}
